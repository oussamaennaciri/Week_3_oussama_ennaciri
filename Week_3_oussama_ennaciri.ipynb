{
 "cells": [
  {
   "cell_type": "markdown",
   "id": "8cd5efa0-c7be-4849-9aec-2bb3e940e513",
   "metadata": {},
   "source": [
    "## United States Economic Forecast Project- Oussama Ennaciri\n",
    "## Data Preparation\n",
    "We will retrieve our economic indicators data from the `raw` schema, clean the missing values, and load the data into the newly created `cleaned` schema."
   ]
  },
  {
   "cell_type": "code",
   "execution_count": 36,
   "id": "b2a28d44-9bbd-445e-8535-07d1054d177d",
   "metadata": {},
   "outputs": [],
   "source": [
    "import seaborn as sns\n",
    "import pandas as pd\n",
    "import numpy as np"
   ]
  },
  {
   "cell_type": "code",
   "execution_count": 37,
   "id": "b18bdbb8-0250-456a-b334-ed5e8a7ce6c6",
   "metadata": {},
   "outputs": [],
   "source": [
    "from sqlalchemy import create_engine"
   ]
  },
  {
   "cell_type": "code",
   "execution_count": 38,
   "id": "b729a380-fe4e-4f50-96ec-892b8126d0b8",
   "metadata": {},
   "outputs": [],
   "source": [
    "host = r'127.0.0.1'\n",
    "db = r'MSDS610' \n",
    "user = r'postgres'\n",
    "pw = r'password' \n",
    "port = r'5432' "
   ]
  },
  {
   "cell_type": "code",
   "execution_count": 39,
   "id": "34b69a3a-2b6e-4b64-8400-6ccde71e39bc",
   "metadata": {},
   "outputs": [],
   "source": [
    "db_conn = create_engine(\"postgresql://{}:{}@{}:{}/{}\".format(user, pw, host, port, db))"
   ]
  },
  {
   "cell_type": "markdown",
   "id": "10fbadfe",
   "metadata": {},
   "source": [
    "## Cleaning the Monthly Data"
   ]
  },
  {
   "cell_type": "code",
   "execution_count": 40,
   "id": "4d5a6a65-6bc2-4c05-a569-5a96815fedff",
   "metadata": {},
   "outputs": [],
   "source": [
    "table_name = r'monthly_data'\n",
    "schema = r'raw' \n",
    "\n",
    "monthly_raw = pd.read_sql_table(table_name, db_conn, schema)"
   ]
  },
  {
   "cell_type": "code",
   "execution_count": 41,
   "id": "bd2726a8",
   "metadata": {},
   "outputs": [
    {
     "name": "stdout",
     "output_type": "stream",
     "text": [
      "<class 'pandas.core.frame.DataFrame'>\n",
      "RangeIndex: 781 entries, 0 to 780\n",
      "Data columns (total 7 columns):\n",
      " #   Column            Non-Null Count  Dtype  \n",
      "---  ------            --------------  -----  \n",
      " 0   observation_date  781 non-null    object \n",
      " 1   PCE               780 non-null    float64\n",
      " 2   HOUST             780 non-null    float64\n",
      " 3   UNRATE            780 non-null    float64\n",
      " 4   FEDFUNDS          781 non-null    float64\n",
      " 5   GS10              781 non-null    float64\n",
      " 6   CPIAUCSL          780 non-null    float64\n",
      "dtypes: float64(6), object(1)\n",
      "memory usage: 42.8+ KB\n"
     ]
    }
   ],
   "source": [
    "monthly_raw.info()"
   ]
  },
  {
   "cell_type": "code",
   "execution_count": 42,
   "id": "93477d88-99d6-49b0-8f29-f1ee674ba0e7",
   "metadata": {},
   "outputs": [
    {
     "data": {
      "text/html": [
       "<div>\n",
       "<style scoped>\n",
       "    .dataframe tbody tr th:only-of-type {\n",
       "        vertical-align: middle;\n",
       "    }\n",
       "\n",
       "    .dataframe tbody tr th {\n",
       "        vertical-align: top;\n",
       "    }\n",
       "\n",
       "    .dataframe thead th {\n",
       "        text-align: right;\n",
       "    }\n",
       "</style>\n",
       "<table border=\"1\" class=\"dataframe\">\n",
       "  <thead>\n",
       "    <tr style=\"text-align: right;\">\n",
       "      <th></th>\n",
       "      <th>observation_date</th>\n",
       "      <th>PCE</th>\n",
       "      <th>HOUST</th>\n",
       "      <th>UNRATE</th>\n",
       "      <th>FEDFUNDS</th>\n",
       "      <th>GS10</th>\n",
       "      <th>CPIAUCSL</th>\n",
       "    </tr>\n",
       "  </thead>\n",
       "  <tbody>\n",
       "    <tr>\n",
       "      <th>771</th>\n",
       "      <td>2024-04-01</td>\n",
       "      <td>19603.3</td>\n",
       "      <td>1377.0</td>\n",
       "      <td>3.9</td>\n",
       "      <td>5.33</td>\n",
       "      <td>4.54</td>\n",
       "      <td>313.207</td>\n",
       "    </tr>\n",
       "    <tr>\n",
       "      <th>772</th>\n",
       "      <td>2024-05-01</td>\n",
       "      <td>19697.3</td>\n",
       "      <td>1315.0</td>\n",
       "      <td>4.0</td>\n",
       "      <td>5.33</td>\n",
       "      <td>4.48</td>\n",
       "      <td>313.225</td>\n",
       "    </tr>\n",
       "    <tr>\n",
       "      <th>773</th>\n",
       "      <td>2024-06-01</td>\n",
       "      <td>19747.5</td>\n",
       "      <td>1329.0</td>\n",
       "      <td>4.1</td>\n",
       "      <td>5.33</td>\n",
       "      <td>4.31</td>\n",
       "      <td>313.049</td>\n",
       "    </tr>\n",
       "    <tr>\n",
       "      <th>774</th>\n",
       "      <td>2024-07-01</td>\n",
       "      <td>19866.3</td>\n",
       "      <td>1262.0</td>\n",
       "      <td>4.2</td>\n",
       "      <td>5.33</td>\n",
       "      <td>4.25</td>\n",
       "      <td>313.534</td>\n",
       "    </tr>\n",
       "    <tr>\n",
       "      <th>775</th>\n",
       "      <td>2024-08-01</td>\n",
       "      <td>19905.0</td>\n",
       "      <td>1379.0</td>\n",
       "      <td>4.2</td>\n",
       "      <td>5.33</td>\n",
       "      <td>3.87</td>\n",
       "      <td>314.121</td>\n",
       "    </tr>\n",
       "    <tr>\n",
       "      <th>776</th>\n",
       "      <td>2024-09-01</td>\n",
       "      <td>20044.1</td>\n",
       "      <td>1355.0</td>\n",
       "      <td>4.1</td>\n",
       "      <td>5.13</td>\n",
       "      <td>3.72</td>\n",
       "      <td>314.686</td>\n",
       "    </tr>\n",
       "    <tr>\n",
       "      <th>777</th>\n",
       "      <td>2024-10-01</td>\n",
       "      <td>20134.5</td>\n",
       "      <td>1344.0</td>\n",
       "      <td>4.1</td>\n",
       "      <td>4.83</td>\n",
       "      <td>4.10</td>\n",
       "      <td>315.454</td>\n",
       "    </tr>\n",
       "    <tr>\n",
       "      <th>778</th>\n",
       "      <td>2024-11-01</td>\n",
       "      <td>20253.6</td>\n",
       "      <td>1294.0</td>\n",
       "      <td>4.2</td>\n",
       "      <td>4.64</td>\n",
       "      <td>4.36</td>\n",
       "      <td>316.441</td>\n",
       "    </tr>\n",
       "    <tr>\n",
       "      <th>779</th>\n",
       "      <td>2024-12-01</td>\n",
       "      <td>20387.2</td>\n",
       "      <td>1499.0</td>\n",
       "      <td>4.1</td>\n",
       "      <td>4.48</td>\n",
       "      <td>4.39</td>\n",
       "      <td>317.685</td>\n",
       "    </tr>\n",
       "    <tr>\n",
       "      <th>780</th>\n",
       "      <td>2025-01-01</td>\n",
       "      <td>NaN</td>\n",
       "      <td>NaN</td>\n",
       "      <td>NaN</td>\n",
       "      <td>4.33</td>\n",
       "      <td>4.63</td>\n",
       "      <td>NaN</td>\n",
       "    </tr>\n",
       "  </tbody>\n",
       "</table>\n",
       "</div>"
      ],
      "text/plain": [
       "    observation_date      PCE   HOUST  UNRATE  FEDFUNDS  GS10  CPIAUCSL\n",
       "771       2024-04-01  19603.3  1377.0     3.9      5.33  4.54   313.207\n",
       "772       2024-05-01  19697.3  1315.0     4.0      5.33  4.48   313.225\n",
       "773       2024-06-01  19747.5  1329.0     4.1      5.33  4.31   313.049\n",
       "774       2024-07-01  19866.3  1262.0     4.2      5.33  4.25   313.534\n",
       "775       2024-08-01  19905.0  1379.0     4.2      5.33  3.87   314.121\n",
       "776       2024-09-01  20044.1  1355.0     4.1      5.13  3.72   314.686\n",
       "777       2024-10-01  20134.5  1344.0     4.1      4.83  4.10   315.454\n",
       "778       2024-11-01  20253.6  1294.0     4.2      4.64  4.36   316.441\n",
       "779       2024-12-01  20387.2  1499.0     4.1      4.48  4.39   317.685\n",
       "780       2025-01-01      NaN     NaN     NaN      4.33  4.63       NaN"
      ]
     },
     "execution_count": 42,
     "metadata": {},
     "output_type": "execute_result"
    }
   ],
   "source": [
    "monthly_raw.tail(10)"
   ]
  },
  {
   "cell_type": "markdown",
   "id": "23911fc9",
   "metadata": {},
   "source": [
    "### Checking for null values in the monthly dataset"
   ]
  },
  {
   "cell_type": "code",
   "execution_count": 43,
   "id": "20cda2f4",
   "metadata": {},
   "outputs": [
    {
     "data": {
      "text/plain": [
       "observation_date    0\n",
       "PCE                 1\n",
       "HOUST               1\n",
       "UNRATE              1\n",
       "FEDFUNDS            0\n",
       "GS10                0\n",
       "CPIAUCSL            1\n",
       "dtype: int64"
      ]
     },
     "execution_count": 43,
     "metadata": {},
     "output_type": "execute_result"
    }
   ],
   "source": [
    "monthly_raw.isnull().sum()"
   ]
  },
  {
   "cell_type": "code",
   "execution_count": 44,
   "id": "e1406cdd",
   "metadata": {},
   "outputs": [],
   "source": [
    "monthly_clean = monthly_raw.copy()"
   ]
  },
  {
   "cell_type": "markdown",
   "id": "67ebbb10",
   "metadata": {},
   "source": [
    "### Dropping rows with null values in the monthly dataset"
   ]
  },
  {
   "cell_type": "code",
   "execution_count": 45,
   "id": "f480575f",
   "metadata": {},
   "outputs": [
    {
     "data": {
      "text/plain": [
       "observation_date    0\n",
       "PCE                 0\n",
       "HOUST               0\n",
       "UNRATE              0\n",
       "FEDFUNDS            0\n",
       "GS10                0\n",
       "CPIAUCSL            0\n",
       "dtype: int64"
      ]
     },
     "execution_count": 45,
     "metadata": {},
     "output_type": "execute_result"
    }
   ],
   "source": [
    "monthly_clean.dropna(subset=['PCE', 'HOUST', 'UNRATE', 'FEDFUNDS', 'GS10', 'CPIAUCSL' ], inplace=True)\n",
    "monthly_clean.isnull().sum()"
   ]
  },
  {
   "cell_type": "markdown",
   "id": "cfe3aae9",
   "metadata": {},
   "source": [
    "### Converting date columns to datetime format"
   ]
  },
  {
   "cell_type": "code",
   "execution_count": 46,
   "id": "35f39743",
   "metadata": {},
   "outputs": [],
   "source": [
    "monthly_clean['observation_date'] = pd.to_datetime(monthly_clean['observation_date'])"
   ]
  },
  {
   "cell_type": "markdown",
   "id": "52683b20",
   "metadata": {},
   "source": [
    "### Checking for duplicates in the monthly dataset"
   ]
  },
  {
   "cell_type": "code",
   "execution_count": 64,
   "id": "fca8e26d",
   "metadata": {},
   "outputs": [
    {
     "data": {
      "text/html": [
       "<div>\n",
       "<style scoped>\n",
       "    .dataframe tbody tr th:only-of-type {\n",
       "        vertical-align: middle;\n",
       "    }\n",
       "\n",
       "    .dataframe tbody tr th {\n",
       "        vertical-align: top;\n",
       "    }\n",
       "\n",
       "    .dataframe thead th {\n",
       "        text-align: right;\n",
       "    }\n",
       "</style>\n",
       "<table border=\"1\" class=\"dataframe\">\n",
       "  <thead>\n",
       "    <tr style=\"text-align: right;\">\n",
       "      <th></th>\n",
       "      <th>observation_date</th>\n",
       "      <th>PCE</th>\n",
       "      <th>HOUST</th>\n",
       "      <th>UNRATE</th>\n",
       "      <th>FEDFUNDS</th>\n",
       "      <th>GS10</th>\n",
       "      <th>CPIAUCSL</th>\n",
       "    </tr>\n",
       "  </thead>\n",
       "  <tbody>\n",
       "  </tbody>\n",
       "</table>\n",
       "</div>"
      ],
      "text/plain": [
       "Empty DataFrame\n",
       "Columns: [observation_date, PCE, HOUST, UNRATE, FEDFUNDS, GS10, CPIAUCSL]\n",
       "Index: []"
      ]
     },
     "execution_count": 64,
     "metadata": {},
     "output_type": "execute_result"
    }
   ],
   "source": [
    "monthly_raw[monthly_raw.duplicated(subset=['observation_date'])]"
   ]
  },
  {
   "cell_type": "markdown",
   "id": "0abbedc6",
   "metadata": {},
   "source": [
    "### Adding a recession indicator (USREC) to mark periods of  recession"
   ]
  },
  {
   "cell_type": "code",
   "execution_count": 48,
   "id": "6a102e03",
   "metadata": {},
   "outputs": [
    {
     "name": "stdout",
     "output_type": "stream",
     "text": [
      "<class 'pandas.core.frame.DataFrame'>\n",
      "RangeIndex: 781 entries, 0 to 780\n",
      "Data columns (total 2 columns):\n",
      " #   Column            Non-Null Count  Dtype \n",
      "---  ------            --------------  ----- \n",
      " 0   observation_date  781 non-null    object\n",
      " 1   USREC             781 non-null    int64 \n",
      "dtypes: int64(1), object(1)\n",
      "memory usage: 12.3+ KB\n"
     ]
    }
   ],
   "source": [
    "usrec = pd.read_csv('economic_indicators/USREC.csv')\n",
    "usrec.info()"
   ]
  },
  {
   "cell_type": "code",
   "execution_count": 49,
   "id": "c77c6e28",
   "metadata": {},
   "outputs": [],
   "source": [
    "usrec['observation_date'] = pd.to_datetime(usrec['observation_date'])"
   ]
  },
  {
   "cell_type": "code",
   "execution_count": 50,
   "id": "e1d34d69",
   "metadata": {},
   "outputs": [
    {
     "name": "stdout",
     "output_type": "stream",
     "text": [
      "<class 'pandas.core.frame.DataFrame'>\n",
      "RangeIndex: 781 entries, 0 to 780\n",
      "Data columns (total 2 columns):\n",
      " #   Column            Non-Null Count  Dtype         \n",
      "---  ------            --------------  -----         \n",
      " 0   observation_date  781 non-null    datetime64[ns]\n",
      " 1   USREC             781 non-null    int64         \n",
      "dtypes: datetime64[ns](1), int64(1)\n",
      "memory usage: 12.3 KB\n"
     ]
    }
   ],
   "source": [
    "usrec.info()"
   ]
  },
  {
   "cell_type": "code",
   "execution_count": 51,
   "id": "5f683e9c",
   "metadata": {},
   "outputs": [
    {
     "data": {
      "text/html": [
       "<div>\n",
       "<style scoped>\n",
       "    .dataframe tbody tr th:only-of-type {\n",
       "        vertical-align: middle;\n",
       "    }\n",
       "\n",
       "    .dataframe tbody tr th {\n",
       "        vertical-align: top;\n",
       "    }\n",
       "\n",
       "    .dataframe thead th {\n",
       "        text-align: right;\n",
       "    }\n",
       "</style>\n",
       "<table border=\"1\" class=\"dataframe\">\n",
       "  <thead>\n",
       "    <tr style=\"text-align: right;\">\n",
       "      <th></th>\n",
       "      <th>observation_date</th>\n",
       "      <th>PCE</th>\n",
       "      <th>HOUST</th>\n",
       "      <th>UNRATE</th>\n",
       "      <th>FEDFUNDS</th>\n",
       "      <th>GS10</th>\n",
       "      <th>CPIAUCSL</th>\n",
       "      <th>USREC</th>\n",
       "    </tr>\n",
       "  </thead>\n",
       "  <tbody>\n",
       "    <tr>\n",
       "      <th>0</th>\n",
       "      <td>1960-01-01</td>\n",
       "      <td>323.6</td>\n",
       "      <td>1460.0</td>\n",
       "      <td>5.2</td>\n",
       "      <td>3.99</td>\n",
       "      <td>4.72</td>\n",
       "      <td>29.370</td>\n",
       "      <td>0</td>\n",
       "    </tr>\n",
       "    <tr>\n",
       "      <th>1</th>\n",
       "      <td>1960-02-01</td>\n",
       "      <td>325.3</td>\n",
       "      <td>1503.0</td>\n",
       "      <td>4.8</td>\n",
       "      <td>3.97</td>\n",
       "      <td>4.49</td>\n",
       "      <td>29.410</td>\n",
       "      <td>0</td>\n",
       "    </tr>\n",
       "    <tr>\n",
       "      <th>2</th>\n",
       "      <td>1960-03-01</td>\n",
       "      <td>330.2</td>\n",
       "      <td>1109.0</td>\n",
       "      <td>5.4</td>\n",
       "      <td>3.84</td>\n",
       "      <td>4.25</td>\n",
       "      <td>29.410</td>\n",
       "      <td>0</td>\n",
       "    </tr>\n",
       "    <tr>\n",
       "      <th>3</th>\n",
       "      <td>1960-04-01</td>\n",
       "      <td>336.5</td>\n",
       "      <td>1289.0</td>\n",
       "      <td>5.2</td>\n",
       "      <td>3.92</td>\n",
       "      <td>4.28</td>\n",
       "      <td>29.540</td>\n",
       "      <td>0</td>\n",
       "    </tr>\n",
       "    <tr>\n",
       "      <th>4</th>\n",
       "      <td>1960-05-01</td>\n",
       "      <td>330.0</td>\n",
       "      <td>1271.0</td>\n",
       "      <td>5.1</td>\n",
       "      <td>3.85</td>\n",
       "      <td>4.35</td>\n",
       "      <td>29.570</td>\n",
       "      <td>1</td>\n",
       "    </tr>\n",
       "    <tr>\n",
       "      <th>...</th>\n",
       "      <td>...</td>\n",
       "      <td>...</td>\n",
       "      <td>...</td>\n",
       "      <td>...</td>\n",
       "      <td>...</td>\n",
       "      <td>...</td>\n",
       "      <td>...</td>\n",
       "      <td>...</td>\n",
       "    </tr>\n",
       "    <tr>\n",
       "      <th>775</th>\n",
       "      <td>2024-08-01</td>\n",
       "      <td>19905.0</td>\n",
       "      <td>1379.0</td>\n",
       "      <td>4.2</td>\n",
       "      <td>5.33</td>\n",
       "      <td>3.87</td>\n",
       "      <td>314.121</td>\n",
       "      <td>0</td>\n",
       "    </tr>\n",
       "    <tr>\n",
       "      <th>776</th>\n",
       "      <td>2024-09-01</td>\n",
       "      <td>20044.1</td>\n",
       "      <td>1355.0</td>\n",
       "      <td>4.1</td>\n",
       "      <td>5.13</td>\n",
       "      <td>3.72</td>\n",
       "      <td>314.686</td>\n",
       "      <td>0</td>\n",
       "    </tr>\n",
       "    <tr>\n",
       "      <th>777</th>\n",
       "      <td>2024-10-01</td>\n",
       "      <td>20134.5</td>\n",
       "      <td>1344.0</td>\n",
       "      <td>4.1</td>\n",
       "      <td>4.83</td>\n",
       "      <td>4.10</td>\n",
       "      <td>315.454</td>\n",
       "      <td>0</td>\n",
       "    </tr>\n",
       "    <tr>\n",
       "      <th>778</th>\n",
       "      <td>2024-11-01</td>\n",
       "      <td>20253.6</td>\n",
       "      <td>1294.0</td>\n",
       "      <td>4.2</td>\n",
       "      <td>4.64</td>\n",
       "      <td>4.36</td>\n",
       "      <td>316.441</td>\n",
       "      <td>0</td>\n",
       "    </tr>\n",
       "    <tr>\n",
       "      <th>779</th>\n",
       "      <td>2024-12-01</td>\n",
       "      <td>20387.2</td>\n",
       "      <td>1499.0</td>\n",
       "      <td>4.1</td>\n",
       "      <td>4.48</td>\n",
       "      <td>4.39</td>\n",
       "      <td>317.685</td>\n",
       "      <td>0</td>\n",
       "    </tr>\n",
       "  </tbody>\n",
       "</table>\n",
       "<p>780 rows × 8 columns</p>\n",
       "</div>"
      ],
      "text/plain": [
       "    observation_date      PCE   HOUST  UNRATE  FEDFUNDS  GS10  CPIAUCSL  USREC\n",
       "0         1960-01-01    323.6  1460.0     5.2      3.99  4.72    29.370      0\n",
       "1         1960-02-01    325.3  1503.0     4.8      3.97  4.49    29.410      0\n",
       "2         1960-03-01    330.2  1109.0     5.4      3.84  4.25    29.410      0\n",
       "3         1960-04-01    336.5  1289.0     5.2      3.92  4.28    29.540      0\n",
       "4         1960-05-01    330.0  1271.0     5.1      3.85  4.35    29.570      1\n",
       "..               ...      ...     ...     ...       ...   ...       ...    ...\n",
       "775       2024-08-01  19905.0  1379.0     4.2      5.33  3.87   314.121      0\n",
       "776       2024-09-01  20044.1  1355.0     4.1      5.13  3.72   314.686      0\n",
       "777       2024-10-01  20134.5  1344.0     4.1      4.83  4.10   315.454      0\n",
       "778       2024-11-01  20253.6  1294.0     4.2      4.64  4.36   316.441      0\n",
       "779       2024-12-01  20387.2  1499.0     4.1      4.48  4.39   317.685      0\n",
       "\n",
       "[780 rows x 8 columns]"
      ]
     },
     "execution_count": 51,
     "metadata": {},
     "output_type": "execute_result"
    }
   ],
   "source": [
    "monthly_clean = pd.merge(monthly_clean, usrec, on='observation_date')\n",
    "monthly_clean"
   ]
  },
  {
   "cell_type": "markdown",
   "id": "7be4c2b6",
   "metadata": {},
   "source": [
    "### Saving the cleaned data to the cleaned schema"
   ]
  },
  {
   "cell_type": "code",
   "execution_count": 52,
   "id": "f1e87a36",
   "metadata": {},
   "outputs": [
    {
     "data": {
      "text/plain": [
       "780"
      ]
     },
     "execution_count": 52,
     "metadata": {},
     "output_type": "execute_result"
    }
   ],
   "source": [
    "table_name1 = r'monthly_clean'\n",
    "schema = r'cleaned'\n",
    "\n",
    "monthly_clean.to_sql(table_name, con=db_conn, if_exists='replace', index=False, schema=schema, chunksize=1000, method='multi')"
   ]
  },
  {
   "cell_type": "markdown",
   "id": "d33a67e3",
   "metadata": {},
   "source": [
    "### Cleaning the Quarterly Data"
   ]
  },
  {
   "cell_type": "code",
   "execution_count": 54,
   "id": "790576f9",
   "metadata": {},
   "outputs": [],
   "source": [
    "table_name = r'quarterly_data'\n",
    "schema = r'raw' \n",
    "\n",
    "quarterly_raw = pd.read_sql_table(table_name, db_conn, schema)"
   ]
  },
  {
   "cell_type": "code",
   "execution_count": 55,
   "id": "6e685a69",
   "metadata": {},
   "outputs": [
    {
     "name": "stdout",
     "output_type": "stream",
     "text": [
      "<class 'pandas.core.frame.DataFrame'>\n",
      "RangeIndex: 260 entries, 0 to 259\n",
      "Data columns (total 7 columns):\n",
      " #   Column            Non-Null Count  Dtype  \n",
      "---  ------            --------------  -----  \n",
      " 0   observation_date  260 non-null    object \n",
      " 1   GDP               260 non-null    float64\n",
      " 2   GDPC1             260 non-null    float64\n",
      " 3   A053RC1Q027SBEA   259 non-null    float64\n",
      " 4   IMPGSC1           260 non-null    float64\n",
      " 5   EXPGSC1           260 non-null    float64\n",
      " 6   GCEC1             260 non-null    float64\n",
      "dtypes: float64(6), object(1)\n",
      "memory usage: 14.3+ KB\n"
     ]
    }
   ],
   "source": [
    "quarterly_raw.info()"
   ]
  },
  {
   "cell_type": "markdown",
   "id": "8e4aafb6",
   "metadata": {},
   "source": [
    "### Checking for null values in the quarterly dataset"
   ]
  },
  {
   "cell_type": "code",
   "execution_count": 56,
   "id": "214ac6af",
   "metadata": {},
   "outputs": [
    {
     "data": {
      "text/plain": [
       "observation_date    0\n",
       "GDP                 0\n",
       "GDPC1               0\n",
       "A053RC1Q027SBEA     1\n",
       "IMPGSC1             0\n",
       "EXPGSC1             0\n",
       "GCEC1               0\n",
       "dtype: int64"
      ]
     },
     "execution_count": 56,
     "metadata": {},
     "output_type": "execute_result"
    }
   ],
   "source": [
    "quarterly_raw.isnull().sum()"
   ]
  },
  {
   "cell_type": "code",
   "execution_count": 57,
   "id": "cabe493e",
   "metadata": {},
   "outputs": [],
   "source": [
    "quarterly_clean = quarterly_raw.copy()"
   ]
  },
  {
   "cell_type": "markdown",
   "id": "fc9eb683",
   "metadata": {},
   "source": [
    "### Dropping rows with null values in the quarterly dataset"
   ]
  },
  {
   "cell_type": "code",
   "execution_count": 58,
   "id": "8b94e769",
   "metadata": {},
   "outputs": [
    {
     "data": {
      "text/plain": [
       "observation_date    0\n",
       "GDP                 0\n",
       "GDPC1               0\n",
       "A053RC1Q027SBEA     0\n",
       "IMPGSC1             0\n",
       "EXPGSC1             0\n",
       "GCEC1               0\n",
       "dtype: int64"
      ]
     },
     "execution_count": 58,
     "metadata": {},
     "output_type": "execute_result"
    }
   ],
   "source": [
    "quarterly_clean.dropna(subset=['GDP', 'GDPC1', 'A053RC1Q027SBEA', 'IMPGSC1', 'EXPGSC1', 'GCEC1' ], inplace=True)\n",
    "quarterly_clean.isnull().sum()"
   ]
  },
  {
   "cell_type": "markdown",
   "id": "bd09fd91",
   "metadata": {},
   "source": [
    "### Converting date columns to datetime format"
   ]
  },
  {
   "cell_type": "code",
   "execution_count": 59,
   "id": "dbcdea59",
   "metadata": {},
   "outputs": [],
   "source": [
    "quarterly_clean['observation_date'] = pd.to_datetime(quarterly_clean['observation_date'])"
   ]
  },
  {
   "cell_type": "markdown",
   "id": "893a8ecf",
   "metadata": {},
   "source": [
    "### Checking for duplicates in the quarterly dataset"
   ]
  },
  {
   "cell_type": "code",
   "execution_count": 63,
   "id": "23619a02",
   "metadata": {},
   "outputs": [
    {
     "name": "stderr",
     "output_type": "stream",
     "text": [
      "/var/folders/8p/h9s_4hcj6hnfgmq4b6yz667r0000gn/T/ipykernel_7941/2888167018.py:1: UserWarning: Boolean Series key will be reindexed to match DataFrame index.\n",
      "  quarterly_raw[monthly_raw.duplicated(subset=['observation_date'])]\n"
     ]
    },
    {
     "data": {
      "text/html": [
       "<div>\n",
       "<style scoped>\n",
       "    .dataframe tbody tr th:only-of-type {\n",
       "        vertical-align: middle;\n",
       "    }\n",
       "\n",
       "    .dataframe tbody tr th {\n",
       "        vertical-align: top;\n",
       "    }\n",
       "\n",
       "    .dataframe thead th {\n",
       "        text-align: right;\n",
       "    }\n",
       "</style>\n",
       "<table border=\"1\" class=\"dataframe\">\n",
       "  <thead>\n",
       "    <tr style=\"text-align: right;\">\n",
       "      <th></th>\n",
       "      <th>observation_date</th>\n",
       "      <th>GDP</th>\n",
       "      <th>GDPC1</th>\n",
       "      <th>A053RC1Q027SBEA</th>\n",
       "      <th>IMPGSC1</th>\n",
       "      <th>EXPGSC1</th>\n",
       "      <th>GCEC1</th>\n",
       "    </tr>\n",
       "  </thead>\n",
       "  <tbody>\n",
       "  </tbody>\n",
       "</table>\n",
       "</div>"
      ],
      "text/plain": [
       "Empty DataFrame\n",
       "Columns: [observation_date, GDP, GDPC1, A053RC1Q027SBEA, IMPGSC1, EXPGSC1, GCEC1]\n",
       "Index: []"
      ]
     },
     "execution_count": 63,
     "metadata": {},
     "output_type": "execute_result"
    }
   ],
   "source": [
    "quarterly_raw[monthly_raw.duplicated(subset=['observation_date'])]"
   ]
  },
  {
   "cell_type": "markdown",
   "id": "1334e3a5",
   "metadata": {},
   "source": [
    "### Creating an export-to-import ratio column to enhance economic analysis"
   ]
  },
  {
   "cell_type": "code",
   "execution_count": 61,
   "id": "2a0c3746",
   "metadata": {},
   "outputs": [
    {
     "data": {
      "text/html": [
       "<div>\n",
       "<style scoped>\n",
       "    .dataframe tbody tr th:only-of-type {\n",
       "        vertical-align: middle;\n",
       "    }\n",
       "\n",
       "    .dataframe tbody tr th {\n",
       "        vertical-align: top;\n",
       "    }\n",
       "\n",
       "    .dataframe thead th {\n",
       "        text-align: right;\n",
       "    }\n",
       "</style>\n",
       "<table border=\"1\" class=\"dataframe\">\n",
       "  <thead>\n",
       "    <tr style=\"text-align: right;\">\n",
       "      <th></th>\n",
       "      <th>observation_date</th>\n",
       "      <th>GDP</th>\n",
       "      <th>GDPC1</th>\n",
       "      <th>A053RC1Q027SBEA</th>\n",
       "      <th>IMPGSC1</th>\n",
       "      <th>EXPGSC1</th>\n",
       "      <th>GCEC1</th>\n",
       "      <th>export_to_import_ratio</th>\n",
       "    </tr>\n",
       "  </thead>\n",
       "  <tbody>\n",
       "    <tr>\n",
       "      <th>0</th>\n",
       "      <td>1960-01-01</td>\n",
       "      <td>542.648</td>\n",
       "      <td>3517.181</td>\n",
       "      <td>58.778</td>\n",
       "      <td>123.608</td>\n",
       "      <td>104.686</td>\n",
       "      <td>1137.363</td>\n",
       "      <td>0.846919</td>\n",
       "    </tr>\n",
       "    <tr>\n",
       "      <th>1</th>\n",
       "      <td>1960-04-01</td>\n",
       "      <td>541.080</td>\n",
       "      <td>3498.246</td>\n",
       "      <td>54.428</td>\n",
       "      <td>124.527</td>\n",
       "      <td>107.689</td>\n",
       "      <td>1150.170</td>\n",
       "      <td>0.864784</td>\n",
       "    </tr>\n",
       "    <tr>\n",
       "      <th>2</th>\n",
       "      <td>1960-07-01</td>\n",
       "      <td>545.604</td>\n",
       "      <td>3515.385</td>\n",
       "      <td>52.155</td>\n",
       "      <td>120.857</td>\n",
       "      <td>110.036</td>\n",
       "      <td>1178.324</td>\n",
       "      <td>0.910464</td>\n",
       "    </tr>\n",
       "    <tr>\n",
       "      <th>3</th>\n",
       "      <td>1960-10-01</td>\n",
       "      <td>540.197</td>\n",
       "      <td>3470.278</td>\n",
       "      <td>50.050</td>\n",
       "      <td>115.156</td>\n",
       "      <td>110.622</td>\n",
       "      <td>1186.511</td>\n",
       "      <td>0.960627</td>\n",
       "    </tr>\n",
       "    <tr>\n",
       "      <th>4</th>\n",
       "      <td>1961-01-01</td>\n",
       "      <td>545.018</td>\n",
       "      <td>3493.703</td>\n",
       "      <td>49.179</td>\n",
       "      <td>114.599</td>\n",
       "      <td>109.861</td>\n",
       "      <td>1204.136</td>\n",
       "      <td>0.958656</td>\n",
       "    </tr>\n",
       "    <tr>\n",
       "      <th>...</th>\n",
       "      <td>...</td>\n",
       "      <td>...</td>\n",
       "      <td>...</td>\n",
       "      <td>...</td>\n",
       "      <td>...</td>\n",
       "      <td>...</td>\n",
       "      <td>...</td>\n",
       "      <td>...</td>\n",
       "    </tr>\n",
       "    <tr>\n",
       "      <th>254</th>\n",
       "      <td>2023-07-01</td>\n",
       "      <td>27967.697</td>\n",
       "      <td>22780.933</td>\n",
       "      <td>3748.928</td>\n",
       "      <td>3460.391</td>\n",
       "      <td>2521.467</td>\n",
       "      <td>3836.304</td>\n",
       "      <td>0.728665</td>\n",
       "    </tr>\n",
       "    <tr>\n",
       "      <th>255</th>\n",
       "      <td>2023-10-01</td>\n",
       "      <td>28296.967</td>\n",
       "      <td>22960.600</td>\n",
       "      <td>3887.693</td>\n",
       "      <td>3496.290</td>\n",
       "      <td>2559.591</td>\n",
       "      <td>3870.720</td>\n",
       "      <td>0.732088</td>\n",
       "    </tr>\n",
       "    <tr>\n",
       "      <th>256</th>\n",
       "      <td>2024-01-01</td>\n",
       "      <td>28624.069</td>\n",
       "      <td>23053.545</td>\n",
       "      <td>3962.994</td>\n",
       "      <td>3548.749</td>\n",
       "      <td>2571.763</td>\n",
       "      <td>3887.718</td>\n",
       "      <td>0.724696</td>\n",
       "    </tr>\n",
       "    <tr>\n",
       "      <th>257</th>\n",
       "      <td>2024-04-01</td>\n",
       "      <td>29016.714</td>\n",
       "      <td>23223.906</td>\n",
       "      <td>4088.703</td>\n",
       "      <td>3614.047</td>\n",
       "      <td>2578.386</td>\n",
       "      <td>3917.049</td>\n",
       "      <td>0.713435</td>\n",
       "    </tr>\n",
       "    <tr>\n",
       "      <th>258</th>\n",
       "      <td>2024-07-01</td>\n",
       "      <td>29374.914</td>\n",
       "      <td>23400.294</td>\n",
       "      <td>4076.715</td>\n",
       "      <td>3707.429</td>\n",
       "      <td>2638.199</td>\n",
       "      <td>3966.247</td>\n",
       "      <td>0.711598</td>\n",
       "    </tr>\n",
       "  </tbody>\n",
       "</table>\n",
       "<p>259 rows × 8 columns</p>\n",
       "</div>"
      ],
      "text/plain": [
       "    observation_date        GDP      GDPC1  A053RC1Q027SBEA   IMPGSC1  \\\n",
       "0         1960-01-01    542.648   3517.181           58.778   123.608   \n",
       "1         1960-04-01    541.080   3498.246           54.428   124.527   \n",
       "2         1960-07-01    545.604   3515.385           52.155   120.857   \n",
       "3         1960-10-01    540.197   3470.278           50.050   115.156   \n",
       "4         1961-01-01    545.018   3493.703           49.179   114.599   \n",
       "..               ...        ...        ...              ...       ...   \n",
       "254       2023-07-01  27967.697  22780.933         3748.928  3460.391   \n",
       "255       2023-10-01  28296.967  22960.600         3887.693  3496.290   \n",
       "256       2024-01-01  28624.069  23053.545         3962.994  3548.749   \n",
       "257       2024-04-01  29016.714  23223.906         4088.703  3614.047   \n",
       "258       2024-07-01  29374.914  23400.294         4076.715  3707.429   \n",
       "\n",
       "      EXPGSC1     GCEC1  export_to_import_ratio  \n",
       "0     104.686  1137.363                0.846919  \n",
       "1     107.689  1150.170                0.864784  \n",
       "2     110.036  1178.324                0.910464  \n",
       "3     110.622  1186.511                0.960627  \n",
       "4     109.861  1204.136                0.958656  \n",
       "..        ...       ...                     ...  \n",
       "254  2521.467  3836.304                0.728665  \n",
       "255  2559.591  3870.720                0.732088  \n",
       "256  2571.763  3887.718                0.724696  \n",
       "257  2578.386  3917.049                0.713435  \n",
       "258  2638.199  3966.247                0.711598  \n",
       "\n",
       "[259 rows x 8 columns]"
      ]
     },
     "execution_count": 61,
     "metadata": {},
     "output_type": "execute_result"
    }
   ],
   "source": [
    "quarterly_clean[\"export_to_import_ratio\"] = quarterly_clean[\"EXPGSC1\"] / quarterly_clean[\"IMPGSC1\"]\n",
    "quarterly_clean"
   ]
  },
  {
   "cell_type": "markdown",
   "id": "805ba6a1",
   "metadata": {},
   "source": [
    "### Saving the cleaned data to the cleaned schema"
   ]
  },
  {
   "cell_type": "code",
   "execution_count": 62,
   "id": "2a691512-3bb4-4c84-a43e-1f901f602378",
   "metadata": {},
   "outputs": [
    {
     "data": {
      "text/plain": [
       "259"
      ]
     },
     "execution_count": 62,
     "metadata": {},
     "output_type": "execute_result"
    }
   ],
   "source": [
    "table_name2 = r'quarterly_clean'\n",
    "schema = r'cleaned'\n",
    "\n",
    "quarterly_clean.to_sql(table_name, con=db_conn, if_exists='replace', index=False, schema=schema, chunksize=1000, method='multi')"
   ]
  }
 ],
 "metadata": {
  "kernelspec": {
   "display_name": "base",
   "language": "python",
   "name": "python3"
  },
  "language_info": {
   "codemirror_mode": {
    "name": "ipython",
    "version": 3
   },
   "file_extension": ".py",
   "mimetype": "text/x-python",
   "name": "python",
   "nbconvert_exporter": "python",
   "pygments_lexer": "ipython3",
   "version": "3.12.2"
  }
 },
 "nbformat": 4,
 "nbformat_minor": 5
}
